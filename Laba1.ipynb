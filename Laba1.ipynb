{
 "cells": [
  {
   "cell_type": "markdown",
   "id": "52bf80b6-5195-4fa7-bf14-75ff20986b1b",
   "metadata": {},
   "source": [
    "# Лаба 1"
   ]
  },
  {
   "cell_type": "markdown",
   "id": "8c2c39a4-d033-4d11-b8a6-fcf65f279786",
   "metadata": {},
   "source": [
    "### 1.1"
   ]
  },
  {
   "cell_type": "markdown",
   "id": "b2b81b10-e0c3-483f-8c3b-8f7cbbe1c77b",
   "metadata": {},
   "source": [
    "### Значения переменных А и В ввести с клавиатуры и вывести на экран. После этого значения меняются местами, т.е. A нужно присвоить значение B, а B – значение A, и вновь значения переменных вывести на экран."
   ]
  },
  {
   "cell_type": "raw",
   "id": "4d058f86-fbb9-4d58-8dac-72f295f85e35",
   "metadata": {
    "scrolled": true
   },
   "source": [
    "a, b = input(), input()\n",
    "print(a, b)\n",
    "a, b = b, a\n",
    "print(a, b)"
   ]
  },
  {
   "cell_type": "markdown",
   "id": "a043ed3f-d969-4a44-8780-31509efe4b70",
   "metadata": {},
   "source": [
    "### 1.2"
   ]
  },
  {
   "cell_type": "markdown",
   "id": "eef12352-c0fd-4308-bb49-2aacf7a3bfc9",
   "metadata": {},
   "source": [
    "### Значение x вводится с клавиатуры. Вычислите $y=(x+1)^2\\cdot \\sqrt{x^3+1}$ Выведите на экран значения $x$ и $y$ с тремя знаками после запятой."
   ]
  },
  {
   "cell_type": "code",
   "execution_count": 8,
   "id": "d38c7193-ba95-497b-9ddc-0545e4132e9f",
   "metadata": {},
   "outputs": [
    {
     "name": "stdin",
     "output_type": "stream",
     "text": [
      " 4\n"
     ]
    },
    {
     "name": "stdout",
     "output_type": "stream",
     "text": [
      "201.556\n"
     ]
    }
   ],
   "source": [
    "x = int(input())\n",
    "y = (x + 1)**2 * (x**3 + 1)**0.5\n",
    "print(round(y,3))"
   ]
  },
  {
   "cell_type": "markdown",
   "id": "2df75104-68fe-4a11-9393-bd9e474f6de0",
   "metadata": {},
   "source": [
    "### 1.3\n"
   ]
  },
  {
   "cell_type": "markdown",
   "id": "7bd85d1a-65e8-4e0d-9f36-927bbd6348d4",
   "metadata": {},
   "source": [
    "### Вычислите сумму цифр пятизначного числа."
   ]
  },
  {
   "cell_type": "code",
   "execution_count": 12,
   "id": "34d363ef-b772-4a92-8902-1a33c99cdaf1",
   "metadata": {},
   "outputs": [
    {
     "name": "stdin",
     "output_type": "stream",
     "text": [
      "Введите пятизначное число:  12345\n"
     ]
    },
    {
     "name": "stdout",
     "output_type": "stream",
     "text": [
      "Сумма цифр пятизначного числа: 15\n"
     ]
    }
   ],
   "source": [
    "number = int(input(\"Введите пятизначное число: \"))\n",
    "sum_of_digits = 0\n",
    "\n",
    "while number > 0:\n",
    "    digit = number % 10\n",
    "    sum_of_digits += digit\n",
    "    number //= 10\n",
    "\n",
    "print(\"Сумма цифр пятизначного числа:\", sum_of_digits)"
   ]
  },
  {
   "cell_type": "markdown",
   "id": "aef1ebab-fec0-41ce-aa82-a34d93e6a22e",
   "metadata": {},
   "source": [
    "### 1.4"
   ]
  },
  {
   "cell_type": "markdown",
   "id": "9a9083dd-55a5-4dab-a768-f1d7ac85b8a8",
   "metadata": {},
   "source": [
    "###  Для заданного трехзначного числа выведите число, у которого цифры идут в обратном порядке, например, для числа 123 ответ 321."
   ]
  },
  {
   "cell_type": "code",
   "execution_count": 14,
   "id": "bedaff0c-0feb-479d-bc05-941b94007272",
   "metadata": {},
   "outputs": [
    {
     "name": "stdin",
     "output_type": "stream",
     "text": [
      " 4567\n"
     ]
    },
    {
     "name": "stdout",
     "output_type": "stream",
     "text": [
      "7654\n"
     ]
    }
   ],
   "source": [
    "num_1 = input()\n",
    "num_2 = num_1[::-1]\n",
    "print(int(num_2))"
   ]
  },
  {
   "cell_type": "markdown",
   "id": "5ba5168b-87c4-4ea5-93b2-9e5e8eef7bb1",
   "metadata": {},
   "source": [
    "### 1.5"
   ]
  },
  {
   "cell_type": "markdown",
   "id": "a3742123-7496-42f0-b68e-eacbbcf2f0f3",
   "metadata": {},
   "source": [
    "### Ввести координаты 2 точек: $(x_1,y_1)$ и $(x_2,y_2)$. Вычислите расстояние между этими точками.  Результат выведите с 5 знаками после запятой."
   ]
  },
  {
   "cell_type": "code",
   "execution_count": 15,
   "id": "4ee498f1-aaa3-4e60-a930-33861662f85d",
   "metadata": {},
   "outputs": [
    {
     "name": "stdin",
     "output_type": "stream",
     "text": [
      " 12\n",
      " 12\n",
      " 23\n",
      " 43\n"
     ]
    },
    {
     "name": "stdout",
     "output_type": "stream",
     "text": [
      "9.16515\n"
     ]
    }
   ],
   "source": [
    "x_1, y_1, x_2, y_2 = int(input()), int(input()), int(input()), int(input())\n",
    "AB = float(((x_2-x_1)*2 + (y_2-y_1)*2)**0.5)\n",
    "print(round(AB, 5))"
   ]
  },
  {
   "cell_type": "markdown",
   "id": "69b77772-2b6a-410b-9878-f561adab930f",
   "metadata": {},
   "source": [
    "### 1.6"
   ]
  },
  {
   "cell_type": "markdown",
   "id": "4c9925aa-bbac-42c8-9e76-885f314fa693",
   "metadata": {},
   "source": [
    "### Разработать программу вычисления по известному радиусу площади круга и длины окружности."
   ]
  },
  {
   "cell_type": "code",
   "execution_count": 16,
   "id": "39a8edfe-f2a4-48eb-824f-9a2e7a97b72f",
   "metadata": {},
   "outputs": [
    {
     "name": "stdin",
     "output_type": "stream",
     "text": [
      " 34\n"
     ]
    },
    {
     "name": "stdout",
     "output_type": "stream",
     "text": [
      "106\n",
      "213\n"
     ]
    }
   ],
   "source": [
    "import math as m\n",
    "r = int(input())\n",
    "S = m.pi * r\n",
    "C = 2 * m.pi * r\n",
    "print(int(S))\n",
    "print(int(C))"
   ]
  },
  {
   "cell_type": "markdown",
   "id": "38605d97-cdde-43f8-9641-194c922ddf52",
   "metadata": {},
   "source": [
    "### 1.7"
   ]
  },
  {
   "cell_type": "markdown",
   "id": "099e12bf-8c23-46ec-8af4-532f98db0d1b",
   "metadata": {},
   "source": [
    "### Разработать программу по вычислению площади кольца по известным значениям его внешнего и внутреннего радиусов."
   ]
  },
  {
   "cell_type": "code",
   "execution_count": 19,
   "id": "32e49f00-416f-49c7-86ef-0b7c431e9899",
   "metadata": {},
   "outputs": [
    {
     "name": "stdin",
     "output_type": "stream",
     "text": [
      " 12\n",
      " 34\n"
     ]
    },
    {
     "name": "stdout",
     "output_type": "stream",
     "text": [
      "-3177.6800000000003\n"
     ]
    }
   ],
   "source": [
    "r_1, r_2 = float(input()), float(input())\n",
    "s = 3.14 * (r_1**2 - r_2**2)\n",
    "print(s)"
   ]
  },
  {
   "cell_type": "markdown",
   "id": "4b9e0de5-0c95-41d8-bad1-e04d6c457da2",
   "metadata": {},
   "source": [
    "### 1.8"
   ]
  },
  {
   "cell_type": "markdown",
   "id": "68e0907e-86c3-4d8f-beff-5bd7d69dbd96",
   "metadata": {},
   "source": [
    "### Разработать программу вычисления радиуса круга и его площади по известной длине окружности."
   ]
  },
  {
   "cell_type": "code",
   "execution_count": 18,
   "id": "24f51301-c558-474b-8ab6-01445b80880c",
   "metadata": {},
   "outputs": [
    {
     "name": "stdin",
     "output_type": "stream",
     "text": [
      " 12\n"
     ]
    },
    {
     "name": "stdout",
     "output_type": "stream",
     "text": [
      "1.910828025477707\n",
      "11.464968152866243\n"
     ]
    }
   ],
   "source": [
    "long = float(input())\n",
    "radius = long / (2*3.14)\n",
    "area = 3.14 * radius**2\n",
    "print(radius, area, sep='\\n')"
   ]
  },
  {
   "cell_type": "markdown",
   "id": "741dbf32-cda7-4777-af64-cf095ff78f6c",
   "metadata": {},
   "source": [
    "### 1.9"
   ]
  },
  {
   "cell_type": "markdown",
   "id": "140524f3-bccd-454e-842b-3f076687b4a1",
   "metadata": {},
   "source": [
    "### Разработать программу вычисления объема шара: а) по радиусу; б) по длине его экваториальной параллели. Объём шара рассчитывается по формуле $V=\\frac{4}{3}\\pi{r^3}$, где $r$ - радиус."
   ]
  },
  {
   "cell_type": "code",
   "execution_count": 20,
   "id": "4716e7b0-84c2-4fa3-a413-6cf124eda417",
   "metadata": {},
   "outputs": [
    {
     "name": "stdin",
     "output_type": "stream",
     "text": [
      "Введите радиус шара:  34\n"
     ]
    },
    {
     "name": "stdout",
     "output_type": "stream",
     "text": [
      "Объем шара по радиусу: 164636.21020892428\n"
     ]
    },
    {
     "name": "stdin",
     "output_type": "stream",
     "text": [
      "Введите длину экваториальной параллели:  23\n"
     ]
    },
    {
     "name": "stdout",
     "output_type": "stream",
     "text": [
      "Объем шара по длине экваториальной параллели: 205.46247356272062\n"
     ]
    }
   ],
   "source": [
    "import math\n",
    "\n",
    "# Вычисление объема шара по радиусу\n",
    "def volume_by_radius(radius):\n",
    "    volume = (4/3) * math.pi * radius**3\n",
    "    return volume\n",
    "\n",
    "# Вычисление объема шара по длине экваториальной параллели\n",
    "def volume_by_circumference(circumference):\n",
    "    radius = circumference / (2 * math.pi)\n",
    "    volume = (4/3) * math.pi * radius**3\n",
    "    return volume\n",
    "\n",
    "# Пример использования\n",
    "radius = float(input(\"Введите радиус шара: \"))\n",
    "print(\"Объем шара по радиусу:\", volume_by_radius(radius))\n",
    "\n",
    "circumference = float(input(\"Введите длину экваториальной параллели: \"))\n",
    "print(\"Объем шара по длине экваториальной параллели:\", volume_by_circumference(circumference))"
   ]
  },
  {
   "cell_type": "markdown",
   "id": "4f53278a-0420-4846-90ee-e6725154737a",
   "metadata": {},
   "source": [
    "### 1.10"
   ]
  },
  {
   "cell_type": "markdown",
   "id": "f1d6a718-0237-4c85-bc46-798357125b91",
   "metadata": {},
   "source": [
    "### Имеются два $n$–мерных вектора $x$ и $y$, которые задают координаты $n$ точек на плоскости (случайные целые числа). Найти наиболее близкие друг другу точки."
   ]
  },
  {
   "cell_type": "code",
   "execution_count": 4,
   "id": "b56c18be-ac3e-46d0-9bcf-fa34b75f81ee",
   "metadata": {},
   "outputs": [
    {
     "name": "stdin",
     "output_type": "stream",
     "text": [
      "Введите координату x первой точки:  2 \n",
      "Введите координату y первой точки:  6\n",
      "Введите координату x второй точки:  1\n",
      "Введите координату y второй точки:  9\n"
     ]
    },
    {
     "name": "stdout",
     "output_type": "stream",
     "text": [
      "Наиболее близкие точки имеют координаты ((2, 6), (1, 9))\n"
     ]
    }
   ],
   "source": [
    "import math\n",
    "\n",
    "# Ввод координат первой точки\n",
    "x1 = int(input(\"Введите координату x первой точки: \"))\n",
    "y1 = int(input(\"Введите координату y первой точки: \"))\n",
    "\n",
    "# Ввод координат второй точки\n",
    "x2 = int(input(\"Введите координату x второй точки: \"))\n",
    "y2 = int(input(\"Введите координату y второй точки: \"))\n",
    "\n",
    "# Вычисляем расстояние между точками\n",
    "distance = math.sqrt((x2 - x1)**2 + (y2 - y1)**2)\n",
    "\n",
    "# Выводим результат\n",
    "print(\"Наиболее близкие точки имеют координаты\", (x1, y1) if distance == 0 else ((x1, y1), (x2, y2)))"
   ]
  },
  {
   "cell_type": "markdown",
   "id": "038f71ea-1088-4f4c-a0e8-fee09e3d9cbb",
   "metadata": {},
   "source": [
    "### 1.11"
   ]
  },
  {
   "cell_type": "markdown",
   "id": "d5f7b980-67e0-4018-b86a-d328ca4f8fcf",
   "metadata": {},
   "source": [
    "### Треугольник задан координатами своих вершин: $(x_1,y_1),(x_2,y_2),(x_3,y_3)$. Значения координат определите с помощью присваивания. Они могут быть нецелыми. Найти периметр и площадь треугольника."
   ]
  },
  {
   "cell_type": "code",
   "execution_count": 32,
   "id": "686817ba-7534-4648-bcdf-37a3423a65ed",
   "metadata": {},
   "outputs": [
    {
     "name": "stdin",
     "output_type": "stream",
     "text": [
      "Введите координаты первой вершины:  3 3\n",
      "Введите координаты второй вершины:  5 6\n",
      "Введите координаты третьей вершины:  7 8\n"
     ]
    },
    {
     "name": "stdout",
     "output_type": "stream",
     "text": [
      "Периметр треугольника: 12.837102637643028\n",
      "Площадь треугольника: 11.111111111111112\n"
     ]
    }
   ],
   "source": [
    "import math\n",
    "\n",
    "def input_coordinates():\n",
    "    x1, y1 = map(float, input(\"Введите координаты первой вершины: \").split())\n",
    "    x2, y2 = map(float, input(\"Введите координаты второй вершины: \").split())\n",
    "    x3, y3 = map(float, input(\"Введите координаты третьей вершины: \").split())\n",
    "    return x1, y1, x2, y2, x3, y3\n",
    "\n",
    "def distance(x1, y1, x2, y2):\n",
    "    return math.sqrt((x2 - x1)**2 + (y2 - y1)**2)\n",
    "\n",
    "def perimeter(x1, y1, x2, y2, x3, y3):\n",
    "    perimeter = distance(x1, y1, x2, y2) + distance(x2, y2, x3, y3) + distance(x3, y3, x1, y1)\n",
    "    return perimeter\n",
    "\n",
    "def area(x1, y1, x2, y2, x3, y3):\n",
    "    mid_x = (x1 + x2 + x3) / 3\n",
    "    mid_y = (y1 + y2 + y3) / 3\n",
    "    return math.sqrt((mid_x - x1)**2 + (mid_y - y1)**2) * distance(x1, y1, mid_x, mid_y)\n",
    "\n",
    "x1, y1, x2, y2, x3, y3 = input_coordinates()\n",
    "print(\"Периметр треугольника:\", perimeter(x1, y1, x2, y2, x3, y3))\n",
    "print(\"Площадь треугольника:\", area(x1, y1, x2, y2, x3, y3))"
   ]
  },
  {
   "cell_type": "markdown",
   "id": "93929dc6-8f97-4d80-a61a-4564da862c21",
   "metadata": {},
   "source": [
    "### 1.12\n"
   ]
  },
  {
   "cell_type": "markdown",
   "id": "eddc0f77-b041-4a3a-b871-f6669991a94a",
   "metadata": {},
   "source": [
    "### Пусть пользователь вводит 5 чисел: а, b, c, d, e. Реализуйте программу расчета выражения вида $res=\\frac{a+bc}{2d-e}+Ost[b^e/c]$, где $Ost$ - остаток от деления. Учесть невозможность деления на 0."
   ]
  },
  {
   "cell_type": "code",
   "execution_count": 34,
   "id": "6b54b728-2fc1-4a4f-9f6d-4f804514eba7",
   "metadata": {},
   "outputs": [
    {
     "name": "stdin",
     "output_type": "stream",
     "text": [
      "Введите значение a:  12\n",
      "Введите значение b:  2\n",
      "Введите значение c:  3\n",
      "Введите значение d:  4\n",
      "Введите значение e:  5\n"
     ]
    },
    {
     "name": "stdout",
     "output_type": "stream",
     "text": [
      "Результат выражения: 21.5 Остаток деления: 1.0\n"
     ]
    }
   ],
   "source": [
    "a = float(input(\"Введите значение a: \"))\n",
    "b = float(input(\"Введите значение b: \"))\n",
    "c = float(input(\"Введите значение c: \"))\n",
    "d = float(input(\"Введите значение d: \"))\n",
    "e = float(input(\"Введите значение e: \"))\n",
    "\n",
    "s = a + b * c**2 / d + e\n",
    "O = c**2 % d\n",
    "\n",
    "print(\"Результат выражения:\", s, \"Остаток деления:\", O)"
   ]
  },
  {
   "cell_type": "markdown",
   "id": "006bf879-7911-443d-83c0-1e7478cd5797",
   "metadata": {},
   "source": [
    "## 2.1"
   ]
  },
  {
   "cell_type": "markdown",
   "id": "68c70fd2-e2fc-4c70-b648-e67dd1a51611",
   "metadata": {},
   "source": [
    "###  Введите строку, состоящую из двух цифр. Преобразуйте ее в целое и вещественное число. Выведите полученные три значения (строку, целое число, вещественное число) на экран в одной строке через запятую, затем пропустите строку и вновь выведите значения по одному на строке. Перед каждым значением выведите его тип."
   ]
  },
  {
   "cell_type": "code",
   "execution_count": 36,
   "id": "f6ff1623-b8bb-44d7-9b2f-c8c8d8d92eb5",
   "metadata": {},
   "outputs": [
    {
     "name": "stdin",
     "output_type": "stream",
     "text": [
      "Введите строку, состоящую из двух цифр:  55\n"
     ]
    },
    {
     "name": "stdout",
     "output_type": "stream",
     "text": [
      "55, 55, 55.0\n",
      "\n",
      "Тип строки: <class 'str'>\n",
      "Тип целого числа: <class 'int'>\n",
      "Тип вещественного числа: <class 'float'>\n"
     ]
    }
   ],
   "source": [
    "# Ввод строки, состоящей из двух цифр\n",
    "input_str = input(\"Введите строку, состоящую из двух цифр: \")\n",
    "\n",
    "# Преобразование строки в целое и вещественное число\n",
    "integer_num = int(input_str)\n",
    "float_num = float(input_str)\n",
    "\n",
    "# Вывод полученных значений\n",
    "print(f\"{input_str}, {integer_num}, {float_num}\")\n",
    "print()\n",
    "print(f\"Тип строки: {type(input_str)}\")\n",
    "print(f\"Тип целого числа: {type(integer_num)}\")\n",
    "print(f\"Тип вещественного числа: {type(float_num)}\")\n"
   ]
  },
  {
   "cell_type": "markdown",
   "id": "6586db67-0569-4dbd-86b2-f4cff39506e5",
   "metadata": {},
   "source": [
    "### 2.2\n"
   ]
  },
  {
   "cell_type": "markdown",
   "id": "8b070959-21ac-48d6-937a-e68a4d2bd5ab",
   "metadata": {},
   "source": [
    "### Для строки 'Финансовый университет' двумя способами получить подстроку с 1-го по 4-й символы включительно."
   ]
  },
  {
   "cell_type": "code",
   "execution_count": 37,
   "id": "e938c327-d276-4b63-a096-932c87f26200",
   "metadata": {},
   "outputs": [
    {
     "name": "stdout",
     "output_type": "stream",
     "text": [
      "Фина\n"
     ]
    }
   ],
   "source": [
    "string = 'Финансовый университет'\n",
    "substring = string[0:4]\n",
    "print(substring)"
   ]
  },
  {
   "cell_type": "markdown",
   "id": "9c4d9fbb-3387-475d-8b2b-99f6f8e2620c",
   "metadata": {},
   "source": [
    "### 2.3"
   ]
  },
  {
   "cell_type": "markdown",
   "id": "abdf8b53-e5dc-4d05-926f-4ebe028283ae",
   "metadata": {},
   "source": [
    "### Составить строку из всех четных символов строки 'Финансовый университет'."
   ]
  },
  {
   "cell_type": "code",
   "execution_count": 38,
   "id": "25c54559-be78-4267-8de1-84e250a631ab",
   "metadata": {},
   "outputs": [
    {
     "name": "stdout",
     "output_type": "stream",
     "text": [
      "иасвйуиестт\n"
     ]
    }
   ],
   "source": [
    "string = 'Финансовый университет'\n",
    "even_chars = ''\n",
    "\n",
    "for i in range(len(string)):\n",
    "    if i % 2 != 0:\n",
    "        even_chars += string[i]\n",
    "\n",
    "print(even_chars)"
   ]
  },
  {
   "cell_type": "markdown",
   "id": "1aabdddf-654d-4134-9e5b-ec5f355fec2e",
   "metadata": {},
   "source": [
    "### 2.4"
   ]
  },
  {
   "cell_type": "markdown",
   "id": "66fd5a1f-602f-46da-89dd-2e3e0598c8e1",
   "metadata": {},
   "source": [
    "### Получить подстроку неизвестной заранее строки, содержащую половину символов строки и расположенную посередине строки."
   ]
  },
  {
   "cell_type": "code",
   "execution_count": 39,
   "id": "93a7be44-af81-4e92-a026-4b030bd86646",
   "metadata": {},
   "outputs": [
    {
     "name": "stdout",
     "output_type": "stream",
     "text": [
      "вестная ст\n"
     ]
    }
   ],
   "source": [
    "string = 'неизвестная строка'\n",
    "length = len(string)\n",
    "start = length // 4\n",
    "end = length - start\n",
    "\n",
    "substring = string[start:end]\n",
    "print(substring)"
   ]
  },
  {
   "cell_type": "markdown",
   "id": "afb31a97-7845-470c-afd4-f580ae64f3da",
   "metadata": {},
   "source": [
    "### 2.5"
   ]
  },
  {
   "cell_type": "markdown",
   "id": "2aa0fa1a-da79-417b-97cb-a674cf5e202c",
   "metadata": {},
   "source": [
    "###  Коротко записать создание строки 'oneoneoneoneoneonetwotwotwo'"
   ]
  },
  {
   "cell_type": "code",
   "execution_count": 40,
   "id": "621e6a10-0951-4a86-90a3-e3345f7f9cab",
   "metadata": {},
   "outputs": [
    {
     "name": "stdout",
     "output_type": "stream",
     "text": [
      "oneoneoneoneonetwotwotwo\n"
     ]
    }
   ],
   "source": [
    "string = 'one' * 5 + 'two' * 3\n",
    "print(string)\n"
   ]
  },
  {
   "cell_type": "markdown",
   "id": "cf93ca32-1300-45c5-b419-c2d609d93f10",
   "metadata": {},
   "source": [
    "### 2.6"
   ]
  },
  {
   "cell_type": "markdown",
   "id": "dea5406f-f2e8-423d-8b85-d3a5b7d7b8ee",
   "metadata": {},
   "source": [
    "###  Для введенной строки выведите (на отдельной строке):\n",
    "- второй символ этой строки;\n",
    "- предпоследний символ этой строки;\n",
    "- всю строку, кроме последних двух символов;\n",
    "- все символы с четными индексами (считая, что индексация начинается с 0, поэтому символы выводятся, начиная с первого);\n",
    "- все символы с нечетными индексами, то есть начиная со второго символа строки;\n",
    "- все символы в обратном порядке;\n",
    "- все символы строки через один в обратном порядке, начиная с последнего;\n",
    "- длину данной строки."
   ]
  },
  {
   "cell_type": "code",
   "execution_count": 41,
   "id": "a375cf52-590b-4c94-809d-a380c8b8033a",
   "metadata": {},
   "outputs": [
    {
     "name": "stdin",
     "output_type": "stream",
     "text": [
      "Введите строку:  Россия\n"
     ]
    },
    {
     "name": "stdout",
     "output_type": "stream",
     "text": [
      "Второй символ этой строки: о\n",
      "Предпоследний символ этой строки: и\n",
      "Всю строку, кроме последних двух символов: Росс\n",
      "Все символы с четными индексами: Рси\n",
      "Все символы с нечетными индексами: ося\n",
      "Все символы в обратном порядке: яиссоР\n",
      "Длина данной строки: 6\n"
     ]
    }
   ],
   "source": [
    "def get_substrings(s):\n",
    "    print(f\"Второй символ этой строки: {s[1]}\")\n",
    "    print(f\"Предпоследний символ этой строки: {s[-2]}\")\n",
    "    print(f\"Всю строку, кроме последних двух символов: {s[:-2]}\")\n",
    "    print(f\"Все символы с четными индексами: {s[::2]}\")\n",
    "    print(f\"Все символы с нечетными индексами: {s[1::2]}\")\n",
    "    print(f\"Все символы в обратном порядке: {s[::-1]}\")\n",
    "    print(f\"Длина данной строки: {len(s)}\")\n",
    "\n",
    "input_str = input(\"Введите строку: \")\n",
    "get_substrings(input_str)"
   ]
  },
  {
   "cell_type": "markdown",
   "id": "6d0bd400-1e64-468e-9674-bbf496671316",
   "metadata": {},
   "source": [
    "### 2.7"
   ]
  },
  {
   "cell_type": "markdown",
   "id": "21870489-2528-4dfa-a622-f7844005adae",
   "metadata": {},
   "source": [
    "###  Не используя метод count, для заданной строки выполните:\n",
    "- если символ * в данной строке отсутствует, выведите текст «нет символа»;\n",
    "- если символ * встречается в строке только один раз, выведите его индекс;\n",
    "- если символ * встречается два и более раз, выведите индекс его первого, второго и последнего вхождения, удалите первый и последний символ * из строки."
   ]
  },
  {
   "cell_type": "code",
   "execution_count": null,
   "id": "25c8b3f1-b6fc-409f-a3f7-2f90afd7b218",
   "metadata": {},
   "outputs": [],
   "source": [
    "def process_string(s):\n",
    "    if '*' not in s:\n",
    "        print(\"нет символа\")\n",
    "    elif s.count('*') == 1:\n",
    "        index = s.find('*')\n",
    "        print(f\"Индекс символа *: {index}\")\n",
    "    else:\n",
    "        first_index = s.find('*')\n",
    "        last_index = s.rfind('*')\n",
    "        print(f\"Индекс первого символа *: {first_index}\")\n",
    "        print(f\"Индекс второго символа *: {last_index}\")\n",
    "        print(f\"Индекс последнего символа *: {last_index}\")\n",
    "        new_string = s.replace('*', '', 1).rsplit('*', 1)[0]\n",
    "        print(f\"Строка без первого и последнего символа *: {new_string}\")\n",
    "\n",
    "input_str = input(\"Введите строку: \")\n",
    "process_string(input_str)"
   ]
  },
  {
   "cell_type": "markdown",
   "id": "a16c0ab5-9e53-4138-a053-e600d989a4ce",
   "metadata": {},
   "source": [
    "### 2.8"
   ]
  },
  {
   "cell_type": "markdown",
   "id": "77099db7-16fa-4923-92d3-1c145ebd1b99",
   "metadata": {},
   "source": [
    "### Дана строка, состоящая из слов, разделенных пробелами. В этой строке:\n",
    "- удалите все лишние пробелы (в начале, в конце, между словами оставить ровно один пробел);\n",
    "- поменяйте регистр символов (строчные сделать прописными, прописные – строчными);\n",
    "- определите, сколько в ней слов."
   ]
  },
  {
   "cell_type": "code",
   "execution_count": 2,
   "id": "74cf5b7c-d71d-4460-97bd-07fd041cf814",
   "metadata": {},
   "outputs": [
    {
     "name": "stdin",
     "output_type": "stream",
     "text": [
      "Введите строку:  Палитра рисунок карандаш \n"
     ]
    },
    {
     "name": "stdout",
     "output_type": "stream",
     "text": [
      "Строка после удаления лишних пробелов: пАЛИТРА РИСУНОК КАРАНДАШ\n",
      "Количество слов в строке: 3\n"
     ]
    }
   ],
   "source": [
    "def process_string(s):\n",
    "    # Удаление лишних пробелов\n",
    "    s = ' '.join(s.split())\n",
    "\n",
    "    # Изменение регистра символов\n",
    "    s = s.swapcase()\n",
    "\n",
    "    # Определение количества слов\n",
    "    words = s.split()\n",
    "    num_words = len(words)\n",
    "\n",
    "    print(f\"Строка после удаления лишних пробелов: {s}\")\n",
    "    print(f\"Количество слов в строке: {num_words}\")\n",
    "\n",
    "input_str = input(\"Введите строку: \")\n",
    "process_string(input_str) "
   ]
  },
  {
   "cell_type": "markdown",
   "id": "ff3bc9f9-ddbe-41bf-91d3-e0cdcebc44a6",
   "metadata": {},
   "source": [
    "### 2.9"
   ]
  },
  {
   "cell_type": "markdown",
   "id": "ac422159-c13b-49c7-b466-5e56e994c1ba",
   "metadata": {},
   "source": [
    "###  Строка содержит фамилию, имя и отчество, записанные через пробелы. Например «Иванов Иван Иванович». Для этой строки:\n",
    "- выведите информацию в виде:\n",
    "```\n",
    "Фамилия       Иванов\n",
    "Имя           Иван\n",
    "Отчество      Иванович\n",
    "```\n",
    "- получите строки вида «Иванов И.И.» и «И.И. Иванов»."
   ]
  },
  {
   "cell_type": "code",
   "execution_count": 5,
   "id": "366676c5-62cc-4d2b-9475-a878ae058124",
   "metadata": {},
   "outputs": [
    {
     "name": "stdin",
     "output_type": "stream",
     "text": [
      "Введите фамилию, имя и отчество через пробелы:  Яковлев Руслан Евгеньевич\n"
     ]
    },
    {
     "name": "stdout",
     "output_type": "stream",
     "text": [
      "Фамилия       Яковлев\n",
      "Имя           Руслан\n",
      "Отчество      Евгеньевич\n",
      "Яковлев Р.Е.\n",
      "Р.Е. Яковлев\n"
     ]
    }
   ],
   "source": [
    "# Ввод строки с фамилией, именем и отчеством\n",
    "full_name = input(\"Введите фамилию, имя и отчество через пробелы: \")\n",
    "\n",
    "# Разбиваем строку на компоненты\n",
    "last_name, first_name, middle_name = full_name.split()\n",
    "\n",
    "# Выводим информацию в требуемом формате\n",
    "print(\"Фамилия      \", last_name)\n",
    "print(\"Имя          \", first_name)\n",
    "print(\"Отчество     \", middle_name)\n",
    "\n",
    "# Получаем строки вида \"Иванов И.И.\" и \"И.И. Иванов\"\n",
    "short_name1 = last_name + \" \" + first_name[0] + \".\" + middle_name[0] + \".\"\n",
    "short_name2 = first_name[0] + \".\" + middle_name[0] + \". \" + last_name\n",
    "\n",
    "# Выводим полученные строки\n",
    "print(short_name1)\n",
    "print(short_name2)"
   ]
  },
  {
   "cell_type": "markdown",
   "id": "2af890ef-ba4f-4e3b-919c-647a8d38b05c",
   "metadata": {},
   "source": [
    "### 2.10"
   ]
  },
  {
   "cell_type": "markdown",
   "id": "46f70da0-a62c-496e-afee-e59763a0cdbe",
   "metadata": {},
   "source": [
    "###  Напишите программу, которая осуществляет вывод кошки на экран. Примечание: кошка выглядят примерно так:\n",
    "```\n",
    "         /\\_/\\ \n",
    "         /@ @\\ \n",
    "        (~~0~~)\n",
    "\n",
    " ```"
   ]
  },
  {
   "cell_type": "code",
   "execution_count": null,
   "id": "ef6bccb3-3e2c-46bc-a771-d57717c966e5",
   "metadata": {},
   "outputs": [],
   "source": [
    "print(\"    /\\\\_/\\\\\")\n",
    "print(\"   /@ @\\\\\")\n",
    "print(\"  (~~0~~)\")"
   ]
  },
  {
   "cell_type": "markdown",
   "id": "39fad077-0b1a-404a-a8ed-e1b8fcf5da90",
   "metadata": {},
   "source": [
    "### 2.11"
   ]
  },
  {
   "cell_type": "markdown",
   "id": "4338a1af-5934-4fbe-8ce7-73a6c45da2e1",
   "metadata": {},
   "source": [
    "### Для двух произвольных строк провести сравнение на совпадение содержимого без учета регистра букв и начальных и конечных пробельных символов. Например, для двух строк ' HeLLO WOrlD' и 'hello WORLD ' такое сравнение должно возвращать True (содержание строк совпадает)."
   ]
  },
  {
   "cell_type": "code",
   "execution_count": 6,
   "id": "9449583a-d4a0-445a-9f95-9cc11d59c827",
   "metadata": {},
   "outputs": [
    {
     "name": "stdin",
     "output_type": "stream",
     "text": [
      "Введите первую строку:  ПиТон\n",
      "Введите вторую строку:  ПИТОн\n"
     ]
    },
    {
     "name": "stdout",
     "output_type": "stream",
     "text": [
      "True\n"
     ]
    }
   ],
   "source": [
    "string1 = input(\"Введите первую строку: \")\n",
    "string2 = input(\"Введите вторую строку: \")\n",
    "\n",
    "# Удаляем начальные и конечные пробелы из строк\n",
    "string1 = string1.strip()\n",
    "string2 = string2.strip()\n",
    "\n",
    "# Приводим строки к нижнему регистру\n",
    "string1 = string1.lower()\n",
    "string2 = string2.lower()\n",
    "\n",
    "# Сравниваем строки\n",
    "if string1 == string2:\n",
    "    print(\"True\")\n",
    "else:\n",
    "    print(\"False\")"
   ]
  },
  {
   "cell_type": "markdown",
   "id": "18090f53-b411-4d37-b5f9-bf2df0aa27e4",
   "metadata": {},
   "source": [
    "### 2.12\n"
   ]
  },
  {
   "cell_type": "markdown",
   "id": "523a90a6-c94d-47a4-aef0-2d25d84b106d",
   "metadata": {},
   "source": [
    "###  По номеру года определите, является ли данный год високосным. (год является високосным, если его номер кратен 4, но не кратен 100, а также если он кратен 400)."
   ]
  },
  {
   "cell_type": "code",
   "execution_count": 7,
   "id": "cbeb25df-48ae-4003-bb23-64e82ea2bd53",
   "metadata": {},
   "outputs": [
    {
     "name": "stdin",
     "output_type": "stream",
     "text": [
      "Введите год:  1964\n"
     ]
    },
    {
     "name": "stdout",
     "output_type": "stream",
     "text": [
      "1964 год является високосным\n"
     ]
    }
   ],
   "source": [
    "year = int(input(\"Введите год: \"))\n",
    "\n",
    "if year % 4 == 0 and year % 100 != 0 or year % 400 == 0:\n",
    "    print(year, \"год является високосным\")\n",
    "else:\n",
    "    print(year, \"год не является високосным\")"
   ]
  },
  {
   "cell_type": "markdown",
   "id": "85544ab1-9e0a-44c6-8012-66efaae0daf9",
   "metadata": {},
   "source": [
    "### 2.18"
   ]
  },
  {
   "cell_type": "markdown",
   "id": "a20651ad-1f1c-4221-bedd-3ed4f30168a4",
   "metadata": {},
   "source": [
    "### Даны точки $A=(1,1),B=(5,5),C=(1,4),D=(7,2)$. Найти точку пересечения отрезков $AB$ и $CD$."
   ]
  },
  {
   "cell_type": "code",
   "execution_count": 8,
   "id": "94d98eab-ac45-43dc-b597-3629c906dfef",
   "metadata": {},
   "outputs": [
    {
     "name": "stdout",
     "output_type": "stream",
     "text": [
      "Точка пересечения отрезков AB и CD: (3.25, 3.25)\n"
     ]
    }
   ],
   "source": [
    "def find_intersection(A, B, C, D):\n",
    "    x1, y1 = A\n",
    "    x2, y2 = B\n",
    "    x3, y3 = C\n",
    "    x4, y4 = D\n",
    "\n",
    "    # Вычисляем уравнения прямых, содержащих отрезки AB и CD\n",
    "    A1 = y2 - y1\n",
    "    B1 = x1 - x2\n",
    "    C1 = A1 * x1 + B1 * y1\n",
    "\n",
    "    A2 = y4 - y3\n",
    "    B2 = x3 - x4\n",
    "    C2 = A2 * x3 + B2 * y3\n",
    "\n",
    "    # Находим точку пересечения прямых\n",
    "    determinant = A1 * B2 - A2 * B1\n",
    "    if determinant == 0:\n",
    "        return \"Отрезки AB и CD параллельны или совпадают\"\n",
    "    else:\n",
    "        x = (B2 * C1 - B1 * C2) / determinant\n",
    "        y = (A1 * C2 - A2 * C1) / determinant\n",
    "        return x, y\n",
    "\n",
    "A = (1, 1)\n",
    "B = (5, 5)\n",
    "C = (1, 4)\n",
    "D = (7, 2)\n",
    "\n",
    "intersection = find_intersection(A, B, C, D)\n",
    "print(\"Точка пересечения отрезков AB и CD:\", intersection)"
   ]
  },
  {
   "cell_type": "code",
   "execution_count": null,
   "id": "845682dd-0ab9-4279-8877-c884dfea7a24",
   "metadata": {},
   "outputs": [],
   "source": []
  }
 ],
 "metadata": {
  "kernelspec": {
   "display_name": "Python 3 (ipykernel)",
   "language": "python",
   "name": "python3"
  },
  "language_info": {
   "codemirror_mode": {
    "name": "ipython",
    "version": 3
   },
   "file_extension": ".py",
   "mimetype": "text/x-python",
   "name": "python",
   "nbconvert_exporter": "python",
   "pygments_lexer": "ipython3",
   "version": "3.11.5"
  }
 },
 "nbformat": 4,
 "nbformat_minor": 5
}
